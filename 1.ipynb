{
  "cells": [
    {
      "cell_type": "code",
      "execution_count": 2,
      "metadata": {
        "id": "wWIp8MkbWqgA"
      },
      "outputs": [],
      "source": [
        "import pandas as pd\n",
        "import nltk\n",
        "from nltk.corpus import stopwords\n",
        "from nltk.tokenize import word_tokenize\n",
        "from nltk import pos_tag, ne_chunk\n",
        "import string"
      ]
    },
    {
      "cell_type": "markdown",
      "metadata": {},
      "source": [
        "Load NLTK"
      ]
    },
    {
      "cell_type": "code",
      "execution_count": null,
      "metadata": {
        "colab": {
          "base_uri": "https://localhost:8080/"
        },
        "id": "BIVkYhA4YLah",
        "outputId": "025ba7e5-9218-402c-b0b9-4ad165c6a1f0"
      },
      "outputs": [
        {
          "name": "stderr",
          "output_type": "stream",
          "text": [
            "[nltk_data] Downloading package punkt to C:\\Users\\Murali krishna\n",
            "[nltk_data]     M\\AppData\\Roaming\\nltk_data...\n",
            "[nltk_data]   Package punkt is already up-to-date!\n",
            "[nltk_data] Downloading package punkt_tab to C:\\Users\\Murali krishna\n",
            "[nltk_data]     M\\AppData\\Roaming\\nltk_data...\n",
            "[nltk_data]   Package punkt_tab is already up-to-date!\n",
            "[nltk_data] Downloading package stopwords to C:\\Users\\Murali krishna\n",
            "[nltk_data]     M\\AppData\\Roaming\\nltk_data...\n",
            "[nltk_data]   Package stopwords is already up-to-date!\n",
            "[nltk_data] Downloading package averaged_perceptron_tagger to\n",
            "[nltk_data]     C:\\Users\\Murali krishna M\\AppData\\Roaming\\nltk_data...\n",
            "[nltk_data]   Package averaged_perceptron_tagger is already up-to-\n",
            "[nltk_data]       date!\n",
            "[nltk_data] Downloading package maxent_ne_chunker to C:\\Users\\Murali\n",
            "[nltk_data]     krishna M\\AppData\\Roaming\\nltk_data...\n",
            "[nltk_data]   Package maxent_ne_chunker is already up-to-date!\n",
            "[nltk_data] Downloading package maxent_ne_chunker_tab to\n",
            "[nltk_data]     C:\\Users\\Murali krishna M\\AppData\\Roaming\\nltk_data...\n",
            "[nltk_data]   Package maxent_ne_chunker_tab is already up-to-date!\n",
            "[nltk_data] Downloading package words to C:\\Users\\Murali krishna\n",
            "[nltk_data]     M\\AppData\\Roaming\\nltk_data...\n",
            "[nltk_data]   Package words is already up-to-date!\n",
            "[nltk_data] Downloading package tagsets to C:\\Users\\Murali krishna\n",
            "[nltk_data]     M\\AppData\\Roaming\\nltk_data...\n",
            "[nltk_data]   Package tagsets is already up-to-date!\n",
            "[nltk_data] Downloading package averaged_perceptron_tagger to\n",
            "[nltk_data]     C:\\Users\\Murali krishna M\\AppData\\Roaming\\nltk_data...\n",
            "[nltk_data]   Package averaged_perceptron_tagger is already up-to-\n",
            "[nltk_data]       date!\n",
            "[nltk_data] Downloading package averaged_perceptron_tagger_eng to\n",
            "[nltk_data]     C:\\Users\\Murali krishna M\\AppData\\Roaming\\nltk_data...\n",
            "[nltk_data]   Unzipping taggers\\averaged_perceptron_tagger_eng.zip.\n",
            "[nltk_data] Downloading package universal_tagset to C:\\Users\\Murali\n",
            "[nltk_data]     krishna M\\AppData\\Roaming\\nltk_data...\n",
            "[nltk_data]   Package universal_tagset is already up-to-date!\n"
          ]
        },
        {
          "data": {
            "text/plain": [
              "True"
            ]
          },
          "execution_count": 3,
          "metadata": {},
          "output_type": "execute_result"
        }
      ],
      "source": [
        "nltk.download('punkt')\n",
        "nltk.download('punkt_tab')\n",
        "nltk.download('stopwords')\n",
        "nltk.download('averaged_perceptron_tagger')\n",
        "nltk.download('maxent_ne_chunker')\n",
        "nltk.download('maxent_ne_chunker_tab')\n",
        "nltk.download('words')\n",
        "nltk.download('tagsets')\n",
        "nltk.download('averaged_perceptron_tagger')\n",
        "nltk.download('averaged_perceptron_tagger_eng')\n",
        "nltk.download('universal_tagset')"
      ]
    },
    {
      "cell_type": "markdown",
      "metadata": {},
      "source": [
        "Load dataset"
      ]
    },
    {
      "cell_type": "code",
      "execution_count": null,
      "metadata": {
        "colab": {
          "background_save": true
        },
        "id": "gu5MDY8CYkON",
        "outputId": "4e3dee28-b0e9-4601-bad1-39c246f39806"
      },
      "outputs": [],
      "source": [
        "df = pd.read_csv(\n",
        "    'data/Reviews.csv',\n",
        "    on_bad_lines='skip',     \n",
        "    engine='python',          \n",
        "    quoting=3,                \n",
        "    encoding='utf-8'          \n",
        ")"
      ]
    },
    {
      "cell_type": "code",
      "execution_count": 5,
      "metadata": {
        "id": "wocuNRfObYZN"
      },
      "outputs": [],
      "source": [
        "reviews = df['Text'].dropna().head(10000)"
      ]
    },
    {
      "cell_type": "markdown",
      "metadata": {},
      "source": [
        "Preprocessing"
      ]
    },
    {
      "cell_type": "code",
      "execution_count": null,
      "metadata": {
        "id": "T4gkMIGjbqCJ"
      },
      "outputs": [],
      "source": [
        "def preprocess(text):\n",
        "  text = text.translate(str.maketrans('', '', string.punctuation))\n",
        "  tokens = word_tokenize(text)\n",
        "  tokens = [t for t in tokens if t.isalpha()]\n",
        "  stop_words = set(stopwords.words('english'))\n",
        "  tokens = [t for t in tokens if t not in stop_words]\n",
        "  return tokens"
      ]
    },
    {
      "cell_type": "markdown",
      "metadata": {},
      "source": [
        "Sample check"
      ]
    },
    {
      "cell_type": "code",
      "execution_count": 7,
      "metadata": {
        "colab": {
          "base_uri": "https://localhost:8080/"
        },
        "id": "KdOHOm2zdvbE",
        "outputId": "5cf50a5a-70f8-42c3-8b3c-c88cd7dc4b27"
      },
      "outputs": [
        {
          "name": "stdout",
          "output_type": "stream",
          "text": [
            "I have bought several of the Vitality canned dog food products and have found them all to be of good quality. The product looks more like a stew than a processed meat and it smells better. My Labrador is finicky and she appreciates this product better than  most.\n"
          ]
        }
      ],
      "source": [
        "sample_review = reviews.iloc[0]\n",
        "tokens = preprocess(sample_review)\n",
        "print(sample_review)"
      ]
    },
    {
      "cell_type": "code",
      "execution_count": 8,
      "metadata": {
        "colab": {
          "base_uri": "https://localhost:8080/"
        },
        "id": "_EqhtuMreApF",
        "outputId": "84ff1c37-cebd-478e-b2f6-7fb4210e81e4"
      },
      "outputs": [
        {
          "name": "stdout",
          "output_type": "stream",
          "text": [
            "Tokens: ['I', 'bought', 'several', 'Vitality', 'canned', 'dog', 'food', 'products', 'found', 'good', 'quality', 'The', 'product', 'looks', 'like', 'stew', 'processed', 'meat', 'smells', 'better']\n"
          ]
        }
      ],
      "source": [
        "print(\"Tokens:\", tokens[:20])"
      ]
    },
    {
      "cell_type": "markdown",
      "metadata": {},
      "source": [
        "POS tagging"
      ]
    },
    {
      "cell_type": "code",
      "execution_count": 9,
      "metadata": {
        "colab": {
          "base_uri": "https://localhost:8080/"
        },
        "id": "rmOgK2AcfF6k",
        "outputId": "b4317e1d-37c9-42b3-b079-1742207ad54c"
      },
      "outputs": [
        {
          "name": "stdout",
          "output_type": "stream",
          "text": [
            "\n",
            "POS Tags: [('I', 'PRON'), ('bought', 'VERB'), ('several', 'ADJ'), ('Vitality', 'NOUN'), ('canned', 'VERB'), ('dog', 'PRT'), ('food', 'NOUN'), ('products', 'NOUN'), ('found', 'VERB'), ('good', 'ADJ'), ('quality', 'NOUN'), ('The', 'DET'), ('product', 'NOUN'), ('looks', 'VERB'), ('like', 'ADP'), ('stew', 'NOUN'), ('processed', 'VERB'), ('meat', 'NOUN'), ('smells', 'NOUN'), ('better', 'ADV')]\n"
          ]
        },
        {
          "name": "stderr",
          "output_type": "stream",
          "text": [
            "[nltk_data] Downloading package universal_tagset to C:\\Users\\Murali\n",
            "[nltk_data]     krishna M\\AppData\\Roaming\\nltk_data...\n",
            "[nltk_data]   Package universal_tagset is already up-to-date!\n"
          ]
        }
      ],
      "source": [
        "import nltk\n",
        "nltk.download('universal_tagset')\n",
        "\n",
        "\n",
        "pos_tags = pos_tag(tokens,tagset='universal')\n",
        "print(\"\\nPOS Tags:\", pos_tags[:20])"
      ]
    },
    {
      "cell_type": "markdown",
      "metadata": {},
      "source": [
        "Name Entity recognistion"
      ]
    },
    {
      "cell_type": "code",
      "execution_count": 10,
      "metadata": {
        "colab": {
          "base_uri": "https://localhost:8080/"
        },
        "id": "cgFl8VUzfTt8",
        "outputId": "b88810be-d7e3-4bc5-8318-74701e03ee71"
      },
      "outputs": [
        {
          "name": "stdout",
          "output_type": "stream",
          "text": [
            "\n",
            "Named Entities:\n",
            "(S\n",
            "  I/PRON\n",
            "  bought/VERB\n",
            "  several/ADJ\n",
            "  Vitality/NOUN\n",
            "  canned/VERB\n",
            "  dog/PRT\n",
            "  food/NOUN\n",
            "  products/NOUN\n",
            "  found/VERB\n",
            "  good/ADJ\n",
            "  quality/NOUN\n",
            "  The/DET\n",
            "  product/NOUN\n",
            "  looks/VERB\n",
            "  like/ADP\n",
            "  stew/NOUN\n",
            "  processed/VERB\n",
            "  meat/NOUN\n",
            "  smells/NOUN\n",
            "  better/ADV\n",
            "  My/NOUN\n",
            "  Labrador/NOUN\n",
            "  finicky/ADJ\n",
            "  appreciates/NOUN\n",
            "  product/NOUN\n",
            "  better/ADV)\n"
          ]
        }
      ],
      "source": [
        "ner_tree = ne_chunk(pos_tags)\n",
        "print(\"\\nNamed Entities:\")\n",
        "print(ner_tree)\n"
      ]
    }
  ],
  "metadata": {
    "colab": {
      "provenance": []
    },
    "kernelspec": {
      "display_name": ".venv",
      "language": "python",
      "name": "python3"
    },
    "language_info": {
      "codemirror_mode": {
        "name": "ipython",
        "version": 3
      },
      "file_extension": ".py",
      "mimetype": "text/x-python",
      "name": "python",
      "nbconvert_exporter": "python",
      "pygments_lexer": "ipython3",
      "version": "3.10.10"
    }
  },
  "nbformat": 4,
  "nbformat_minor": 0
}
