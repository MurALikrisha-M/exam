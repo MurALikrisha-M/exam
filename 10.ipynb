{
 "cells": [
  {
   "cell_type": "code",
   "execution_count": 1,
   "id": "69d6dde9",
   "metadata": {},
   "outputs": [],
   "source": [
    "import pandas as pd\n",
    "import spacy\n",
    "from sklearn.feature_extraction.text import TfidfVectorizer\n",
    "from sklearn.metrics.pairwise import cosine_similarity"
   ]
  },
  {
   "cell_type": "markdown",
   "id": "a82e8b1d",
   "metadata": {},
   "source": [
    "Load data and preprocess"
   ]
  },
  {
   "cell_type": "code",
   "execution_count": 2,
   "id": "fbb16a80",
   "metadata": {},
   "outputs": [],
   "source": [
    "file_path = \"data/Reviews.csv\" \n",
    "\n",
    "df = pd.read_csv(file_path)\n",
    "df = df.dropna(subset=['Text'])\n",
    "df = df.head(1000).reset_index(drop=True)"
   ]
  },
  {
   "cell_type": "markdown",
   "id": "ddf8583c",
   "metadata": {},
   "source": [
    "process with SpaCy"
   ]
  },
  {
   "cell_type": "code",
   "execution_count": 3,
   "id": "54a7aae2",
   "metadata": {},
   "outputs": [],
   "source": [
    "nlp = spacy.load(\"en_core_web_sm\", disable=[\"parser\", \"ner\"])\n",
    "\n",
    "def preprocess_text(text):\n",
    "    doc = nlp(text.lower())  # convert to lowercase and process with spaCy\n",
    "    tokens = [\n",
    "        token.lemma_ for token in doc\n",
    "        if token.is_alpha and not token.is_stop\n",
    "    ]\n",
    "    return \" \".join(tokens)"
   ]
  },
  {
   "cell_type": "code",
   "execution_count": 5,
   "id": "7b9afbf3",
   "metadata": {},
   "outputs": [],
   "source": [
    "df['cleaned_text'] = df['Text'].apply(preprocess_text)"
   ]
  },
  {
   "cell_type": "markdown",
   "id": "473f867d",
   "metadata": {},
   "source": [
    "TF-IDF the text"
   ]
  },
  {
   "cell_type": "code",
   "execution_count": 6,
   "id": "a494fc36",
   "metadata": {},
   "outputs": [],
   "source": [
    "vectorizer = TfidfVectorizer()\n",
    "tfidf_matrix = vectorizer.fit_transform(df['cleaned_text'])"
   ]
  },
  {
   "cell_type": "markdown",
   "id": "3e5a5a23",
   "metadata": {},
   "source": [
    "Processing querys (from user)"
   ]
  },
  {
   "cell_type": "code",
   "execution_count": null,
   "id": "4ef6a20d",
   "metadata": {},
   "outputs": [],
   "source": [
    "def process_query(query):\n",
    "    return preprocess_text(query)\n",
    "\n",
    "def retrieve_reviews(user_query, top_k=5):\n",
    "    clean_query = process_query(user_query)\n",
    "    query_vector = vectorizer.transform([clean_query])\n",
    "\n",
    "    \n",
    "    similarities = cosine_similarity(query_vector, tfidf_matrix).flatten()\n",
    "\n",
    "    top_indices = similarities.argsort()[::-1][:top_k]\n",
    "    results = df.iloc[top_indices][['Text', 'Score']]\n",
    "    results['similarity'] = similarities[top_indices]\n",
    "\n",
    "    return results"
   ]
  },
  {
   "cell_type": "markdown",
   "id": "6ce95db3",
   "metadata": {},
   "source": [
    "SAMPLE query"
   ]
  },
  {
   "cell_type": "code",
   "execution_count": 8,
   "id": "1b0dc157",
   "metadata": {},
   "outputs": [
    {
     "name": "stdout",
     "output_type": "stream",
     "text": [
      "\n",
      "Top matching reviews:\n",
      "\n",
      "⭐ Score: 5 | Similarity: 0.430\n",
      "My daughter is outgrowing baby food but will still eat this.  We tried 3rd foods on her and she doesn't like the texture of them.  This is really good for her and she likes it, so we keep buying it.\n",
      "--------------------------------------------------------------------------------\n",
      "⭐ Score: 5 | Similarity: 0.389\n",
      "From 6 month to 12 month, my son barely ate any solid food.  He was so picky.  We tried many different flavor from various brands and this was the only baby food that he'd actually finish the whole jar.  I didn't expect him to like this since it has very green vegetable scent to it, but I guessed it wrong.<br />Now he is 18 month old and he is a pretty healthy eater.  His current favorite seems to be tofu, but he still loves corn, zucchini, brown rice and carrot which are the ingredients of this.  I highly recommend to try this baby food.<br /><br />Also, Earth's Best makes not only the best baby foods but their toddler foods are fabulous as well.  My son doesn't really like any snacks from Gerber brand, but he likes most of the products from Earth's Best.  Their foods taste great(even for us adult) and so good for you too.\n",
      "--------------------------------------------------------------------------------\n",
      "⭐ Score: 5 | Similarity: 0.361\n",
      "I tired many different dog foods over the 3 yrs I have my cocker spaniel. I then came upon this breed specific dog food & figured I'd try it. My dog loves this food and always finishes his food. I've used this for over 1 yr now & he has not tired of it. I have seen a significant change (for the better) in him, he's more active and doing well.<br /><br />I only buy this brand food for him now.<br /><br />Buster gives it 2 paws up & I give it 5 stars.\n",
      "--------------------------------------------------------------------------------\n",
      "⭐ Score: 5 | Similarity: 0.342\n",
      "This is easily the best potato chip that I have ever had.  Look at the ingredients:  Ginger and 3 types of hot pepper.  How can you go wrong?<br /><br />Obviously, not for you if you don't like spicy food. But, if you DO like spicy food, you'll probably love these.  They have that hot-with-a-hint-of-sweetness flavor combo that is prevalent in a lot of Thai food.\n",
      "--------------------------------------------------------------------------------\n",
      "⭐ Score: 5 | Similarity: 0.328\n",
      "I have done a lot of research to find the best food for my cat, and this is an excellent food.  That is also according to my holistic veterinarian.  They put probiotics on the kibble as the last step, which is very important to me.  The best thing is that my cat loved it immediately and I had to stop mixing it with the old food because she only would eat Holistic Select.\n",
      "--------------------------------------------------------------------------------\n"
     ]
    }
   ],
   "source": [
    "user_query = input(\"Enter your query: \")\n",
    "\n",
    "print(\"\\nTop matching reviews:\\n\")\n",
    "results = retrieve_reviews(user_query, top_k=5)\n",
    "\n",
    "for idx, row in results.iterrows():\n",
    "    print(f\"⭐ Score: {row['Score']} | Similarity: {row['similarity']:.3f}\")\n",
    "    print(row['Text'])\n",
    "    print(\"-\" * 80)"
   ]
  }
 ],
 "metadata": {
  "kernelspec": {
   "display_name": ".venv",
   "language": "python",
   "name": "python3"
  },
  "language_info": {
   "codemirror_mode": {
    "name": "ipython",
    "version": 3
   },
   "file_extension": ".py",
   "mimetype": "text/x-python",
   "name": "python",
   "nbconvert_exporter": "python",
   "pygments_lexer": "ipython3",
   "version": "3.10.10"
  }
 },
 "nbformat": 4,
 "nbformat_minor": 5
}
