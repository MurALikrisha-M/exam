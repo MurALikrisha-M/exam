{
 "cells": [
  {
   "cell_type": "code",
   "execution_count": 1,
   "id": "a65a82b7",
   "metadata": {},
   "outputs": [],
   "source": [
    "\n",
    "import pandas as pd\n",
    "import numpy as np\n",
    "import seaborn as sns\n",
    "import matplotlib.pyplot as plt\n",
    "from sklearn.model_selection import train_test_split\n",
    "from sklearn.impute import SimpleImputer\n"
   ]
  },
  {
   "cell_type": "markdown",
   "id": "efb450f9",
   "metadata": {},
   "source": [
    "load data"
   ]
  },
  {
   "cell_type": "code",
   "execution_count": null,
   "id": "88570b79",
   "metadata": {},
   "outputs": [],
   "source": [
    "\n",
    "data = pd.read_csv(\"data/titanic.csv\")\n",
    "\n",
    "print(\"Shape of Dataset:\", data.shape)\n",
    "print(\"\\nDataset Info:\")\n",
    "print(data.info())\n",
    "\n",
    "print(\"\\nSummary Statistics:\")\n",
    "print(data.describe(include='all'))\n"
   ]
  },
  {
   "cell_type": "markdown",
   "id": "3eeef6cd",
   "metadata": {},
   "source": [
    "preprocess"
   ]
  },
  {
   "cell_type": "code",
   "execution_count": null,
   "id": "ee6074df",
   "metadata": {},
   "outputs": [],
   "source": [
    "\n",
    "age_imputer = SimpleImputer(strategy='mean')\n",
    "data['Age'] = age_imputer.fit_transform(data[['Age']])\n",
    "\n",
    "data['Cabin'] = data['Cabin'].fillna('Unknown')\n",
    "data['Embarked'] = data['Embarked'].fillna(data['Embarked'].mode()[0])\n",
    "\n",
    "print(\"\\nMissing Values After Imputation:\")\n",
    "print(data.isnull().sum())\n"
   ]
  },
  {
   "cell_type": "code",
   "execution_count": null,
   "id": "c1897675",
   "metadata": {},
   "outputs": [],
   "source": [
    "\n",
    "plt.figure(figsize=(6,4))\n",
    "sns.countplot(x='Pclass', data=data, palette='Set2')\n",
    "plt.title('Passenger Class Distribution')\n",
    "plt.show()\n"
   ]
  },
  {
   "cell_type": "markdown",
   "id": "4c1ef3b1",
   "metadata": {},
   "source": [
    "females survived"
   ]
  },
  {
   "cell_type": "code",
   "execution_count": null,
   "id": "5c95b694",
   "metadata": {},
   "outputs": [],
   "source": [
    "\n",
    "female_survived = data[(data['Sex'] == 'female') & (data['Survived'] == 1)]\n",
    "print(\"Names of Female Passengers Who Survived:\")\n",
    "print(female_survived['Name'])\n"
   ]
  },
  {
   "cell_type": "markdown",
   "id": "fa82005e",
   "metadata": {},
   "source": [
    "under 18"
   ]
  },
  {
   "cell_type": "code",
   "execution_count": null,
   "id": "9644cdbc",
   "metadata": {},
   "outputs": [],
   "source": [
    "\n",
    "third_class_under_18 = data[(data['Pclass'] == 3) & (data['Age'] < 18)]\n",
    "print(\"Passengers in 3rd Class and Under 18:\")\n",
    "print(third_class_under_18[['Name', 'Age', 'Pclass']])\n"
   ]
  },
  {
   "cell_type": "markdown",
   "id": "37559487",
   "metadata": {},
   "source": [
    "class 1 older than 40"
   ]
  },
  {
   "cell_type": "code",
   "execution_count": null,
   "id": "4817f026",
   "metadata": {},
   "outputs": [],
   "source": [
    "\n",
    "class1_above40 = data[(data['Pclass'] == 1) & (data['Age'] > 40)]\n",
    "print(\"Passengers in Class 1 and Older Than 40:\")\n",
    "print(class1_above40[['Name', 'Age', 'Pclass']])\n"
   ]
  },
  {
   "cell_type": "markdown",
   "id": "e3e43fda",
   "metadata": {},
   "source": [
    "survived class 1 and age 40"
   ]
  },
  {
   "cell_type": "code",
   "execution_count": null,
   "id": "564cc99f",
   "metadata": {},
   "outputs": [],
   "source": [
    "\n",
    "survived_class1_above40 = class1_above40[class1_above40['Survived'] == 1]\n",
    "print(\"Survived Passengers (Class 1 & Age > 40):\")\n",
    "print(survived_class1_above40[['Name', 'Age', 'Survived']])\n"
   ]
  },
  {
   "cell_type": "markdown",
   "id": "22716b56",
   "metadata": {},
   "source": [
    "fare > 100 "
   ]
  },
  {
   "cell_type": "code",
   "execution_count": null,
   "id": "f69302a3",
   "metadata": {},
   "outputs": [],
   "source": [
    "\n",
    "rich_males = data[(data['Sex'] == 'male') & (data['Fare'] > 100)]\n",
    "print(\"Male Passengers Who Paid Fare > 100:\")\n",
    "print(rich_males[['Name', 'Fare']])\n"
   ]
  },
  {
   "cell_type": "markdown",
   "id": "9c8de13c",
   "metadata": {},
   "source": [
    "port C class 2"
   ]
  },
  {
   "cell_type": "code",
   "execution_count": null,
   "id": "3a4cf2db",
   "metadata": {},
   "outputs": [],
   "source": [
    "\n",
    "embarked_C_class2 = data[(data['Embarked'] == 'C') & (data['Pclass'] == 2)]\n",
    "print(\"Passengers from Port 'C' and in Class 2:\")\n",
    "print(embarked_C_class2[['Name', 'Embarked', 'Pclass']])\n"
   ]
  },
  {
   "cell_type": "markdown",
   "id": "88034392",
   "metadata": {},
   "source": [
    "> 2 siblings"
   ]
  },
  {
   "cell_type": "code",
   "execution_count": null,
   "id": "3e8fed9a",
   "metadata": {},
   "outputs": [],
   "source": [
    "\n",
    "sibsp_more2 = data[data['SibSp'] > 2]\n",
    "print(\"Passengers with More Than 2 Siblings/Spouses:\")\n",
    "print(sibsp_more2[['Name', 'SibSp']])\n"
   ]
  },
  {
   "cell_type": "markdown",
   "id": "132c3be5",
   "metadata": {},
   "source": [
    "died and no family"
   ]
  },
  {
   "cell_type": "code",
   "execution_count": null,
   "id": "2f411613",
   "metadata": {},
   "outputs": [],
   "source": [
    "\n",
    "no_family_died = data[(data['Survived'] == 0) & (data['SibSp'] == 0) & (data['Parch'] == 0)]\n",
    "print(\"Passengers Who Died and Had No Family:\")\n",
    "print(no_family_died[['Name', 'Survived', 'SibSp', 'Parch']])\n"
   ]
  },
  {
   "cell_type": "markdown",
   "id": "eb07e5e6",
   "metadata": {},
   "source": [
    "5 oldest survived"
   ]
  },
  {
   "cell_type": "code",
   "execution_count": null,
   "id": "e17f4a72",
   "metadata": {},
   "outputs": [],
   "source": [
    "\n",
    "oldest_survivors = data[data['Survived'] == 1].sort_values(by='Age', ascending=False).head(5)\n",
    "print(\"Top 5 Oldest Passengers Who Survived:\")\n",
    "print(oldest_survivors[['Name', 'Age', 'Survived']])\n"
   ]
  },
  {
   "cell_type": "markdown",
   "id": "dd0b1c9f",
   "metadata": {},
   "source": [
    "0 fare"
   ]
  },
  {
   "cell_type": "code",
   "execution_count": null,
   "id": "01bc1af2",
   "metadata": {},
   "outputs": [],
   "source": [
    "\n",
    "free_passengers = data[data['Fare'] == 0]\n",
    "print(\"Passengers Who Paid Zero Fare:\")\n",
    "print(free_passengers[['Name', 'Fare']])\n"
   ]
  },
  {
   "cell_type": "markdown",
   "id": "f54cc27e",
   "metadata": {},
   "source": [
    "spliting dataset"
   ]
  },
  {
   "cell_type": "code",
   "execution_count": null,
   "id": "b614e5b1",
   "metadata": {},
   "outputs": [],
   "source": [
    "\n",
    "X = data[['Pclass', 'Age', 'SibSp', 'Parch', 'Fare']]\n",
    "y = data['Survived']\n",
    "\n",
    "X_train, X_test, y_train, y_test = train_test_split(X, y, test_size=0.2, random_state=42)\n",
    "\n",
    "print(\"Training set size:\", X_train.shape)\n",
    "print(\"Testing set size:\", X_test.shape)\n"
   ]
  }
 ],
 "metadata": {
  "kernelspec": {
   "display_name": "Python 3",
   "language": "python",
   "name": "python3"
  },
  "language_info": {
   "codemirror_mode": {
    "name": "ipython",
    "version": 3
   },
   "file_extension": ".py",
   "mimetype": "text/x-python",
   "name": "python",
   "nbconvert_exporter": "python",
   "pygments_lexer": "ipython3",
   "version": "3.11.9"
  }
 },
 "nbformat": 4,
 "nbformat_minor": 5
}
