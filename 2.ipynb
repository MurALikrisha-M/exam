{
 "cells": [
  {
   "cell_type": "code",
   "execution_count": 1,
   "id": "56a9849e",
   "metadata": {},
   "outputs": [],
   "source": [
    "import pandas as pd\n",
    "import spacy"
   ]
  },
  {
   "cell_type": "markdown",
   "id": "0cefd20f",
   "metadata": {},
   "source": [
    "Loading spacy"
   ]
  },
  {
   "cell_type": "code",
   "execution_count": 2,
   "id": "603ab7c2",
   "metadata": {},
   "outputs": [],
   "source": [
    "nlp = spacy.load(\"en_core_web_sm\")"
   ]
  },
  {
   "cell_type": "markdown",
   "id": "07056d9d",
   "metadata": {},
   "source": [
    "Dataset"
   ]
  },
  {
   "cell_type": "code",
   "execution_count": 3,
   "id": "a31e0e74",
   "metadata": {},
   "outputs": [],
   "source": [
    "df = pd.read_csv('data/Reviews.csv',on_bad_lines = 'skip',engine='python',quoting=3,encoding='utf-8')\n",
    "reviews = df['Text'].dropna().head(10000)"
   ]
  },
  {
   "cell_type": "markdown",
   "id": "e21d29cc",
   "metadata": {},
   "source": [
    "sample query"
   ]
  },
  {
   "cell_type": "code",
   "execution_count": 4,
   "id": "71979b7c",
   "metadata": {},
   "outputs": [],
   "source": [
    "sample_review = reviews.iloc[0]\n",
    "doc = nlp(sample_review)"
   ]
  },
  {
   "cell_type": "code",
   "execution_count": 5,
   "id": "fcf16458",
   "metadata": {},
   "outputs": [
    {
     "name": "stdout",
     "output_type": "stream",
     "text": [
      "Tokens: ['bought', 'Vitality', 'canned', 'dog', 'food', 'products', 'found', 'good', 'quality', 'product', 'looks', 'like', 'stew', 'processed', 'meat', 'smells', 'better', 'Labrador', 'finicky', 'appreciates']\n"
     ]
    }
   ],
   "source": [
    "print(\"Tokens:\", [token.text for token in doc if not token.is_stop and token.is_alpha][:20])"
   ]
  },
  {
   "cell_type": "markdown",
   "id": "2340c194",
   "metadata": {},
   "source": [
    "POS tagging"
   ]
  },
  {
   "cell_type": "code",
   "execution_count": 6,
   "id": "f53a0276",
   "metadata": {},
   "outputs": [
    {
     "name": "stdout",
     "output_type": "stream",
     "text": [
      "\n",
      "POS Tags:\n",
      "I --> PRON\n",
      "have --> AUX\n",
      "bought --> VERB\n",
      "several --> ADJ\n",
      "of --> ADP\n",
      "the --> DET\n",
      "Vitality --> PROPN\n",
      "canned --> VERB\n",
      "dog --> NOUN\n",
      "food --> NOUN\n",
      "products --> NOUN\n",
      "and --> CCONJ\n",
      "have --> AUX\n",
      "found --> VERB\n",
      "them --> PRON\n",
      "all --> PRON\n",
      "to --> PART\n",
      "be --> AUX\n",
      "of --> ADP\n",
      "good --> ADJ\n"
     ]
    }
   ],
   "source": [
    "print(\"\\nPOS Tags:\")\n",
    "for token in doc[:20]:\n",
    "    print(f\"{token.text} --> {token.pos_}\")"
   ]
  },
  {
   "cell_type": "markdown",
   "id": "b2f984cc",
   "metadata": {},
   "source": [
    "NER"
   ]
  },
  {
   "cell_type": "code",
   "execution_count": 7,
   "id": "4878e350",
   "metadata": {},
   "outputs": [
    {
     "name": "stdout",
     "output_type": "stream",
     "text": [
      "\n",
      "Named Entities:\n",
      "Vitality --> ORG\n",
      "My Labrador --> PERSON\n"
     ]
    }
   ],
   "source": [
    "print(\"\\nNamed Entities:\")\n",
    "for ent in doc.ents:\n",
    "  print(f\"{ent.text} --> {ent.label_}\")"
   ]
  }
 ],
 "metadata": {
  "kernelspec": {
   "display_name": ".venv",
   "language": "python",
   "name": "python3"
  },
  "language_info": {
   "codemirror_mode": {
    "name": "ipython",
    "version": 3
   },
   "file_extension": ".py",
   "mimetype": "text/x-python",
   "name": "python",
   "nbconvert_exporter": "python",
   "pygments_lexer": "ipython3",
   "version": "3.10.10"
  }
 },
 "nbformat": 4,
 "nbformat_minor": 5
}
