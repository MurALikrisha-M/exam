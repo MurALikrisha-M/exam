{
 "cells": [
  {
   "cell_type": "code",
   "execution_count": 1,
   "id": "725f07d5",
   "metadata": {},
   "outputs": [],
   "source": [
    "import pandas as pd\n",
    "import re\n",
    "import nltk\n",
    "from nltk.corpus import stopwords\n",
    "from sklearn.feature_extraction.text import TfidfVectorizer\n",
    "from sklearn.metrics.pairwise import cosine_similarity"
   ]
  },
  {
   "cell_type": "markdown",
   "id": "4fa29d52",
   "metadata": {},
   "source": [
    "Load dataset and NLTK"
   ]
  },
  {
   "cell_type": "code",
   "execution_count": 5,
   "id": "921b7862",
   "metadata": {},
   "outputs": [
    {
     "name": "stderr",
     "output_type": "stream",
     "text": [
      "[nltk_data] Downloading package stopwords to C:\\Users\\Murali krishna\n",
      "[nltk_data]     M\\AppData\\Roaming\\nltk_data...\n",
      "[nltk_data]   Package stopwords is already up-to-date!\n",
      "[nltk_data] Downloading package punkt to C:\\Users\\Murali krishna\n",
      "[nltk_data]     M\\AppData\\Roaming\\nltk_data...\n",
      "[nltk_data]   Package punkt is already up-to-date!\n",
      "[nltk_data] Downloading package punkt_tab to C:\\Users\\Murali krishna\n",
      "[nltk_data]     M\\AppData\\Roaming\\nltk_data...\n",
      "[nltk_data]   Unzipping tokenizers\\punkt_tab.zip.\n"
     ]
    }
   ],
   "source": [
    "file_path = \"data/Reviews.csv\"  \n",
    "df = pd.read_csv(file_path)\n",
    "\n",
    "df = df[['Text']].dropna()\n",
    "\n",
    "df = df.head(10000).reset_index(drop=True)\n",
    "\n",
    "\n",
    "nltk.download('stopwords')\n",
    "nltk.download('punkt')\n",
    "nltk.download('punkt_tab') \n",
    "stop_words = set(stopwords.words('english'))"
   ]
  },
  {
   "cell_type": "markdown",
   "id": "dcc62c22",
   "metadata": {},
   "source": [
    "PREPROCESSING FUNCTION"
   ]
  },
  {
   "cell_type": "code",
   "execution_count": 6,
   "id": "b1006417",
   "metadata": {},
   "outputs": [],
   "source": [
    "def preprocess_text(text):\n",
    "    text = text.lower()\n",
    "    text = re.sub(r'[^a-z\\s]', '', text)\n",
    "    \n",
    "\n",
    "    tokens = nltk.word_tokenize(text)\n",
    "    \n",
    "    tokens = [word for word in tokens if word not in stop_words]\n",
    "    \n",
    "    return \" \".join(tokens)"
   ]
  },
  {
   "cell_type": "code",
   "execution_count": 7,
   "id": "c14f0f22",
   "metadata": {},
   "outputs": [],
   "source": [
    "df['cleaned_text'] = df['Text'].apply(preprocess_text)"
   ]
  },
  {
   "cell_type": "markdown",
   "id": "cac99c14",
   "metadata": {},
   "source": [
    "TF-IDF the reviews"
   ]
  },
  {
   "cell_type": "code",
   "execution_count": 8,
   "id": "4ee69c06",
   "metadata": {},
   "outputs": [],
   "source": [
    "vectorizer = TfidfVectorizer()\n",
    "tfidf_matrix = vectorizer.fit_transform(df['cleaned_text'])"
   ]
  },
  {
   "cell_type": "markdown",
   "id": "7c3bbb9f",
   "metadata": {},
   "source": [
    "Query processing"
   ]
  },
  {
   "cell_type": "code",
   "execution_count": 9,
   "id": "21edd45f",
   "metadata": {},
   "outputs": [],
   "source": [
    "def process_query(query):\n",
    "    return preprocess_text(query)\n",
    "\n",
    "def retrieve_reviews(query, top_k=5):\n",
    "    clean_query = process_query(query)\n",
    "    query_vector = vectorizer.transform([clean_query])\n",
    "    \n",
    "\n",
    "    similarities = cosine_similarity(query_vector, tfidf_matrix).flatten()\n",
    "    \n",
    "\n",
    "    top_indices = similarities.argsort()[::-1][:top_k]\n",
    "    \n",
    "    results = df.iloc[top_indices][['Text', 'cleaned_text']].copy()\n",
    "    results['similarity'] = similarities[top_indices]\n",
    "    \n",
    "    return results"
   ]
  },
  {
   "cell_type": "markdown",
   "id": "c7ae901c",
   "metadata": {},
   "source": [
    "SAMPLE query"
   ]
  },
  {
   "cell_type": "code",
   "execution_count": 13,
   "id": "ab092c87",
   "metadata": {},
   "outputs": [
    {
     "name": "stdout",
     "output_type": "stream",
     "text": [
      "\n",
      "🔍 QUERY: great product with fast shipping\n",
      "🟢 Similarity: 0.502\n",
      "Original Review:\n",
      "Enjoyed the product and they also provided very fast shipping.  I'm about out and need to order more.\n",
      "\n",
      "Cleaned Review:\n",
      "enjoyed product also provided fast shipping im need order\n",
      "🟢 Similarity: 0.444\n",
      "Original Review:\n",
      "The tea is good and fresh. We enjoy it. The shipping is fast and cost is reasonable.<br />I recommend this product.\n",
      "\n",
      "Cleaned Review:\n",
      "tea good fresh enjoy shipping fast cost reasonablebr recommend product\n",
      "\n",
      "🔍 QUERY: disappointed\n",
      "🟢 Similarity: 0.485\n",
      "Original Review:\n",
      "I am a bit disappointed.  The flavor was not what I wanted or expected.\n",
      "\n",
      "Cleaned Review:\n",
      "bit disappointed flavor wanted expected\n",
      "🟢 Similarity: 0.357\n",
      "Original Review:\n",
      "The product is very good. Way too expensive and at almost 5.00 a box to get pancakes or biscuits I was disappointed\n",
      "\n",
      "Cleaned Review:\n",
      "product good way expensive almost box get pancakes biscuits disappointed\n"
     ]
    }
   ],
   "source": [
    "queries = [\n",
    "    \"great product with fast shipping\",\n",
    "    \"disappointed\"\n",
    "]\n",
    "\n",
    "for query in queries:\n",
    "    print(f\"\\n🔍 QUERY: {query}\")\n",
    "    \n",
    "    results = retrieve_reviews(query, top_k=2)\n",
    "    for i, row in results.iterrows():\n",
    "        print(f\"🟢 Similarity: {row['similarity']:.3f}\")\n",
    "        print(f\"Original Review:\\n{row['Text']}\\n\")\n",
    "        print(f\"Cleaned Review:\\n{row['cleaned_text']}\")\n"
   ]
  }
 ],
 "metadata": {
  "kernelspec": {
   "display_name": ".venv",
   "language": "python",
   "name": "python3"
  },
  "language_info": {
   "codemirror_mode": {
    "name": "ipython",
    "version": 3
   },
   "file_extension": ".py",
   "mimetype": "text/x-python",
   "name": "python",
   "nbconvert_exporter": "python",
   "pygments_lexer": "ipython3",
   "version": "3.10.10"
  }
 },
 "nbformat": 4,
 "nbformat_minor": 5
}
